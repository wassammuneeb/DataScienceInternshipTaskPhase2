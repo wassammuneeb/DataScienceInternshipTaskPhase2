{
  "nbformat": 4,
  "nbformat_minor": 0,
  "metadata": {
    "colab": {
      "provenance": []
    },
    "kernelspec": {
      "name": "python3",
      "display_name": "Python 3"
    },
    "language_info": {
      "name": "python"
    }
  },
  "cells": [
    {
      "cell_type": "code",
      "execution_count": 5,
      "metadata": {
        "colab": {
          "base_uri": "https://localhost:8080/"
        },
        "id": "MTCeUWQvpGPM",
        "outputId": "acb15074-1725-4690-9d99-7d42f04060c0"
      },
      "outputs": [
        {
          "output_type": "stream",
          "name": "stdout",
          "text": [
            "   person_age  person_income person_home_ownership  person_emp_length  \\\n",
            "0          22          59000                  RENT              123.0   \n",
            "1          21           9600                   OWN                5.0   \n",
            "2          25           9600              MORTGAGE                1.0   \n",
            "3          23          65500                  RENT                4.0   \n",
            "4          24          54400                  RENT                8.0   \n",
            "\n",
            "  loan_intent loan_grade  loan_amnt  loan_int_rate  loan_status  \\\n",
            "0    PERSONAL          D      35000          16.02            1   \n",
            "1   EDUCATION          B       1000          11.14            0   \n",
            "2     MEDICAL          C       5500          12.87            1   \n",
            "3     MEDICAL          C      35000          15.23            1   \n",
            "4     MEDICAL          C      35000          14.27            1   \n",
            "\n",
            "   loan_percent_income cb_person_default_on_file  cb_person_cred_hist_length  \n",
            "0                 0.59                         Y                           3  \n",
            "1                 0.10                         N                           2  \n",
            "2                 0.57                         N                           3  \n",
            "3                 0.53                         N                           2  \n",
            "4                 0.55                         Y                           4  \n"
          ]
        }
      ],
      "source": [
        "\n",
        "# Load dataset\n",
        "import pandas as pd\n",
        "from sklearn.model_selection import train_test_split\n",
        "from sklearn.preprocessing import LabelEncoder\n",
        "from sklearn.linear_model import LogisticRegression\n",
        "from sklearn.metrics import confusion_matrix\n",
        "\n",
        "# Load data\n",
        "df = pd.read_csv(\"/content/credit_risk_dataset.csv\")\n",
        "print(df.head())\n",
        "# Handle categorical variables\n",
        "cat_cols = ['person_home_ownership', 'loan_intent', 'loan_grade', 'cb_person_default_on_file']\n",
        "for col in cat_cols:\n",
        "    df[col] = LabelEncoder().fit_transform(df[col])\n",
        "\n",
        "# Fill missing values\n",
        "df = df.fillna(df.median())\n",
        "\n",
        "# Features and target\n",
        "X = df.drop('loan_status', axis=1)\n",
        "y = df['loan_status']\n"
      ]
    },
    {
      "cell_type": "code",
      "source": [
        "X_train, X_test, y_train, y_test = train_test_split(X, y, test_size=0.3, random_state=42)\n"
      ],
      "metadata": {
        "id": "d9wSMAE0pTmf"
      },
      "execution_count": 6,
      "outputs": []
    },
    {
      "cell_type": "code",
      "source": [
        "model = LogisticRegression(max_iter=1000)\n",
        "model.fit(X_train, y_train)\n",
        "\n",
        "# Predict probabilities\n",
        "y_probs = model.predict_proba(X_test)[:, 1]\n"
      ],
      "metadata": {
        "colab": {
          "base_uri": "https://localhost:8080/"
        },
        "id": "T3NIcShiq8wR",
        "outputId": "e9acfd2c-2443-4e5e-e167-3b73be7399c1"
      },
      "execution_count": 7,
      "outputs": [
        {
          "output_type": "stream",
          "name": "stderr",
          "text": [
            "/usr/local/lib/python3.12/dist-packages/sklearn/linear_model/_logistic.py:465: ConvergenceWarning: lbfgs failed to converge (status=1):\n",
            "STOP: TOTAL NO. OF ITERATIONS REACHED LIMIT.\n",
            "\n",
            "Increase the number of iterations (max_iter) or scale the data as shown in:\n",
            "    https://scikit-learn.org/stable/modules/preprocessing.html\n",
            "Please also refer to the documentation for alternative solver options:\n",
            "    https://scikit-learn.org/stable/modules/linear_model.html#logistic-regression\n",
            "  n_iter_i = _check_optimize_result(\n"
          ]
        }
      ]
    },
    {
      "cell_type": "code",
      "source": [
        "import numpy as np\n",
        "\n",
        "cost_fp = 500\n",
        "cost_fn = 5000\n",
        "\n",
        "thresholds = np.arange(0.0, 1.0, 0.01)\n",
        "best_threshold = 0\n",
        "min_cost = float('inf')\n",
        "\n",
        "for t in thresholds:\n",
        "    y_pred = (y_probs >= t).astype(int)\n",
        "    tn, fp, fn, tp = confusion_matrix(y_test, y_pred).ravel()\n",
        "    total_cost = (fp * cost_fp) + (fn * cost_fn)\n",
        "    if total_cost < min_cost:\n",
        "        min_cost = total_cost\n",
        "        best_threshold = t\n",
        "\n",
        "print(\"Best Threshold:\", best_threshold)\n",
        "print(\"Minimum Business Cost:\", min_cost)\n"
      ],
      "metadata": {
        "colab": {
          "base_uri": "https://localhost:8080/"
        },
        "id": "btrPuUxZq9yE",
        "outputId": "4792fc6d-d20f-4b86-8be6-3ae32f5d6f6f"
      },
      "execution_count": 8,
      "outputs": [
        {
          "output_type": "stream",
          "name": "stdout",
          "text": [
            "Best Threshold: 0.14\n",
            "Minimum Business Cost: 2978000\n"
          ]
        }
      ]
    },
    {
      "cell_type": "code",
      "source": [
        "y_final = (y_probs >= best_threshold).astype(int)\n",
        "tn, fp, fn, tp = confusion_matrix(y_test, y_final).ravel()\n",
        "print(\"Confusion Matrix:\")\n",
        "print(f\"TN={tn}, FP={fp}, FN={fn}, TP={tp}\")\n"
      ],
      "metadata": {
        "colab": {
          "base_uri": "https://localhost:8080/"
        },
        "id": "8XPcSqjwrDAk",
        "outputId": "eb04a100-a47b-46d7-d8cf-4bf1acb32c24"
      },
      "execution_count": 9,
      "outputs": [
        {
          "output_type": "stream",
          "name": "stdout",
          "text": [
            "Confusion Matrix:\n",
            "TN=4447, FP=3166, FN=279, TP=1883\n"
          ]
        }
      ]
    },
    {
      "cell_type": "code",
      "source": [],
      "metadata": {
        "id": "BiGy3PlArFo5"
      },
      "execution_count": 10,
      "outputs": []
    },
    {
      "cell_type": "code",
      "source": [],
      "metadata": {
        "id": "EJoEBhrTrG2F"
      },
      "execution_count": null,
      "outputs": []
    }
  ]
}